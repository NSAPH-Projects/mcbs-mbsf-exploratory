{
 "cells": [
  {
   "cell_type": "code",
   "execution_count": 83,
   "metadata": {},
   "outputs": [],
   "source": [
    "import pandas as pd"
   ]
  },
  {
   "cell_type": "markdown",
   "metadata": {},
   "source": [
    "## Get MCBS"
   ]
  },
  {
   "cell_type": "code",
   "execution_count": 84,
   "metadata": {},
   "outputs": [],
   "source": [
    "mcbs = pd.read_csv(\"../data/csv/nicoalco.csv\")"
   ]
  },
  {
   "cell_type": "code",
   "execution_count": 85,
   "metadata": {},
   "outputs": [
    {
     "data": {
      "text/plain": [
       "12297"
      ]
     },
     "execution_count": 85,
     "metadata": {},
     "output_type": "execute_result"
    }
   ],
   "source": [
    "len(mcbs)"
   ]
  },
  {
   "cell_type": "code",
   "execution_count": 86,
   "metadata": {},
   "outputs": [
    {
     "name": "stderr",
     "output_type": "stream",
     "text": [
      "/n/helmod/apps/centos7/Core/Anaconda3/2020.11-jupyterood-fasrc01/x/lib/python3.8/site-packages/IPython/core/interactiveshell.py:3146: DtypeWarning: Columns (24,25,26,27,28,29,30,40) have mixed types.Specify dtype option on import or set low_memory=False.\n",
      "  has_raised = await self.run_ast_nodes(code_ast.body, cell_name,\n"
     ]
    }
   ],
   "source": [
    "df = pd.read_csv(\"../data/csv/demo.csv\") # demographics file"
   ]
  },
  {
   "cell_type": "code",
   "execution_count": 87,
   "metadata": {},
   "outputs": [
    {
     "data": {
      "text/plain": [
       "14068"
      ]
     },
     "execution_count": 87,
     "metadata": {},
     "output_type": "execute_result"
    }
   ],
   "source": [
    "len(df)"
   ]
  },
  {
   "cell_type": "markdown",
   "metadata": {},
   "source": [
    "## Get the MCBS-MBSF cross-walk"
   ]
  },
  {
   "cell_type": "code",
   "execution_count": 88,
   "metadata": {},
   "outputs": [],
   "source": [
    "xwalk = pd.read_csv(\"../data/mcbs-xwalk/mcbs_xwalk_file_res000017155_req010441_2018.dat\", names=[\"xwalk\"])"
   ]
  },
  {
   "cell_type": "code",
   "execution_count": 89,
   "metadata": {},
   "outputs": [],
   "source": [
    "# get MCBS ids from xwalk\n",
    "xwalk[\"mcbs\"]=xwalk[\"xwalk\"].str[:8]\n",
    "# get MBSF ids\n",
    "xwalk[\"mbsf\"]=xwalk[\"xwalk\"].str[8:]\n",
    "xwalk[\"mcbs\"]=xwalk[\"mcbs\"].astype(int)"
   ]
  },
  {
   "cell_type": "code",
   "execution_count": 90,
   "metadata": {},
   "outputs": [],
   "source": [
    "xwalk=xwalk.drop(columns=['xwalk'])"
   ]
  },
  {
   "cell_type": "markdown",
   "metadata": {},
   "source": [
    "## Merge MCBS and MBSF cross-walk"
   ]
  },
  {
   "cell_type": "code",
   "execution_count": 91,
   "metadata": {},
   "outputs": [],
   "source": [
    "mcbs_x = mcbs.merge(xwalk, left_on='BASEID', right_on='mcbs', how='inner')"
   ]
  },
  {
   "cell_type": "code",
   "execution_count": 92,
   "metadata": {},
   "outputs": [],
   "source": [
    "df_x = df.merge(xwalk, left_on='BASEID', right_on='mcbs', how='inner')"
   ]
  },
  {
   "cell_type": "code",
   "execution_count": 93,
   "metadata": {},
   "outputs": [
    {
     "data": {
      "text/plain": [
       "12297"
      ]
     },
     "execution_count": 93,
     "metadata": {},
     "output_type": "execute_result"
    }
   ],
   "source": [
    "len(mcbs_x)"
   ]
  },
  {
   "cell_type": "code",
   "execution_count": 94,
   "metadata": {},
   "outputs": [
    {
     "data": {
      "text/plain": [
       "14068"
      ]
     },
     "execution_count": 94,
     "metadata": {},
     "output_type": "execute_result"
    }
   ],
   "source": [
    "len(df_x)"
   ]
  },
  {
   "cell_type": "markdown",
   "metadata": {},
   "source": [
    "## Get MBSF (enrollment)"
   ]
  },
  {
   "cell_type": "markdown",
   "metadata": {},
   "source": [
    "All MBSF columns:\n",
    "\n",
    "cols = [\"zip\",\"year\",\"qid\",\"dodflag\",\"bene_dod\",\"sex\",\"race\",\"age\",\"hmo_mo\",\"hmoind\",\"statecode\",\"latitude\",\"longitude\",\n",
    "        \"dual\",\"death\",\"dead\",\"entry_age\",\"entry_year\",\"entry_age_break\",\"followup_year\",\"followup_year_plus_one\",\"pm25_ensemble\",\n",
    "        \"pm25_no_interp\",\"pm25_nn\",\"ozone\",\"ozone_no_interp\",\"zcta\",\"poverty\",\"popdensity\",\"medianhousevalue\",\"pct_blk\",\n",
    "        \"medhouseholdincome\",\"pct_owner_occ\",\"hispanic\",\"education\",\"population\",\"zcta_no_interp\",\"poverty_no_interp\",\n",
    "        \"popdensity_no_interp\",\"medianhousevalue_no_interp\",\"pct_blk_no_interp\",\"medhouseholdincome_no_interp\",\n",
    "        \"pct_owner_occ_no_interp\",\"hispanic_no_interp\",\"education_no_interp\",\"population_no_interp\",\"smoke_rate\",\"mean_bmi\",\n",
    "        \"smoke_rate_no_interp\",\"mean_bmi_no_interp\",\"amb_visit_pct\",\"a1c_exm_pct\",\"amb_visit_pct_no_interp\",\n",
    "        \"a1c_exm_pct_no_interp\",\"tmmx\",\"rmax\",\"pr\",\"cluster_cat\",\"fips_no_interp\",\"fips\",\"summer_tmmx\",\n",
    "        \"summer_rmax\",\"winter_tmmx\",\"winter_rmax\"]"
   ]
  },
  {
   "cell_type": "code",
   "execution_count": 95,
   "metadata": {},
   "outputs": [],
   "source": [
    "cols = [\"zip\",\"year\",\"qid\",\"dodflag\",\"bene_dod\",\"sex\",\"race\",\"age\",\"hmo_mo\",\"hmoind\",\"statecode\",\n",
    "        \"dual\",\"death\",\"dead\",\"entry_age\",\"entry_year\",\"entry_age_break\",\"followup_year\"]"
   ]
  },
  {
   "cell_type": "code",
   "execution_count": 120,
   "metadata": {},
   "outputs": [
    {
     "name": "stderr",
     "output_type": "stream",
     "text": [
      "/n/helmod/apps/centos7/Core/Anaconda3/2020.11-jupyterood-fasrc01/x/lib/python3.8/site-packages/IPython/core/interactiveshell.py:3146: DtypeWarning: Columns (11) have mixed types.Specify dtype option on import or set low_memory=False.\n",
      "  has_raised = await self.run_ast_nodes(code_ast.body, cell_name,\n"
     ]
    }
   ],
   "source": [
    "mbsf = pd.read_csv(\n",
    "    \"../data/denom_by_year_csv/confounder_exposure_merged_nodups_health_2015.csv\", usecols=cols)"
   ]
  },
  {
   "cell_type": "markdown",
   "metadata": {},
   "source": [
    "Merge onto MCBS nicoalco and demo:"
   ]
  },
  {
   "cell_type": "code",
   "execution_count": 121,
   "metadata": {},
   "outputs": [],
   "source": [
    "mcbs_x_mbsf = mcbs_x.merge(\n",
    "    mbsf, left_on='mbsf', right_on='qid', how='left', suffixes=(None, \"_2015\"))\n",
    "# An inner merge leads to: len(mcbs_x_mbsf) =  10042"
   ]
  },
  {
   "cell_type": "code",
   "execution_count": 122,
   "metadata": {},
   "outputs": [],
   "source": [
    "df_x_mbsf = df_x.merge(\n",
    "    mbsf, left_on='mbsf', right_on='qid', how='left', suffixes=(None, \"_2015\"))\n",
    "# An inner merge leads to: len(df_x_mbsf) =  11585"
   ]
  },
  {
   "cell_type": "markdown",
   "metadata": {},
   "source": [
    "Get MBSF 2016 and merge onto the merged MCBS x MBSF 2015"
   ]
  },
  {
   "cell_type": "code",
   "execution_count": 123,
   "metadata": {},
   "outputs": [],
   "source": [
    "mbsf = pd.read_csv(\n",
    "    \"../data/denom_by_year_csv/confounder_exposure_merged_nodups_health_2016.csv\", usecols=cols)"
   ]
  },
  {
   "cell_type": "code",
   "execution_count": 124,
   "metadata": {},
   "outputs": [],
   "source": [
    "mcbs_x_mbsf = mcbs_x_mbsf.merge(\n",
    "    mbsf, left_on='mbsf', right_on='qid', how='left', suffixes=(None, \"_2016\"))"
   ]
  },
  {
   "cell_type": "code",
   "execution_count": 125,
   "metadata": {},
   "outputs": [],
   "source": [
    "df_x_mbsf = df_x_mbsf.merge(\n",
    "    mbsf, left_on='mbsf', right_on='qid', how='left', suffixes=(None, \"_2016\"))"
   ]
  },
  {
   "cell_type": "code",
   "execution_count": 126,
   "metadata": {},
   "outputs": [
    {
     "data": {
      "text/plain": [
       "12297"
      ]
     },
     "execution_count": 126,
     "metadata": {},
     "output_type": "execute_result"
    }
   ],
   "source": [
    "len(mcbs_x_mbsf)"
   ]
  },
  {
   "cell_type": "code",
   "execution_count": 127,
   "metadata": {},
   "outputs": [
    {
     "data": {
      "text/plain": [
       "14068"
      ]
     },
     "execution_count": 127,
     "metadata": {},
     "output_type": "execute_result"
    }
   ],
   "source": [
    "len(df_x_mbsf)"
   ]
  },
  {
   "cell_type": "markdown",
   "metadata": {},
   "source": [
    "## Cleanup and save"
   ]
  },
  {
   "cell_type": "code",
   "execution_count": 128,
   "metadata": {},
   "outputs": [],
   "source": [
    "mcbs_x_mbsf = mcbs_x_mbsf.drop(columns=['mcbs', 'mbsf','qid_2016'])\n",
    "df_x_mbsf = df_x_mbsf.drop(columns=['mcbs', 'mbsf','qid_2016'])"
   ]
  },
  {
   "cell_type": "markdown",
   "metadata": {},
   "source": [
    "Apply \"age\" >= 65 in 2015 cut"
   ]
  },
  {
   "cell_type": "code",
   "execution_count": 129,
   "metadata": {},
   "outputs": [],
   "source": [
    "# mcbs_x_mbsf[\"age\"]=pd.to_numeric(mcbs_x_mbsf[\"age\"])\n",
    "df_x_mbsf = df_x_mbsf[df_x_mbsf[\"H_AGE\"] >= 65]"
   ]
  },
  {
   "cell_type": "markdown",
   "metadata": {},
   "source": [
    "Select for the 2015 panel."
   ]
  },
  {
   "cell_type": "code",
   "execution_count": 130,
   "metadata": {},
   "outputs": [],
   "source": [
    "df_x_mbsf= df_x_mbsf[df_x_mbsf[\"PANEL\"]==2015]"
   ]
  },
  {
   "cell_type": "markdown",
   "metadata": {},
   "source": [
    "Select the same cohort in nicoalco:"
   ]
  },
  {
   "cell_type": "code",
   "execution_count": 131,
   "metadata": {},
   "outputs": [],
   "source": [
    "mcbs_x_mbsf = mcbs_x_mbsf[\n",
    "    mcbs_x_mbsf[\"BASEID\"].isin(df_x_mbsf[\"BASEID\"])]"
   ]
  },
  {
   "cell_type": "code",
   "execution_count": 132,
   "metadata": {},
   "outputs": [
    {
     "data": {
      "text/plain": [
       "3392"
      ]
     },
     "execution_count": 132,
     "metadata": {},
     "output_type": "execute_result"
    }
   ],
   "source": [
    "len(mcbs_x_mbsf)"
   ]
  },
  {
   "cell_type": "code",
   "execution_count": 133,
   "metadata": {},
   "outputs": [
    {
     "data": {
      "text/plain": [
       "3612"
      ]
     },
     "execution_count": 133,
     "metadata": {},
     "output_type": "execute_result"
    }
   ],
   "source": [
    "len(df_x_mbsf)"
   ]
  },
  {
   "cell_type": "code",
   "execution_count": 134,
   "metadata": {},
   "outputs": [
    {
     "data": {
      "text/plain": [
       "29"
      ]
     },
     "execution_count": 134,
     "metadata": {},
     "output_type": "execute_result"
    }
   ],
   "source": [
    "mcbs_x_mbsf[\"dead\"].sum() # dead in 2015"
   ]
  },
  {
   "cell_type": "code",
   "execution_count": 135,
   "metadata": {},
   "outputs": [
    {
     "data": {
      "text/plain": [
       "148"
      ]
     },
     "execution_count": 135,
     "metadata": {},
     "output_type": "execute_result"
    }
   ],
   "source": [
    "mcbs_x_mbsf[\"dead_2016\"].sum() # dead in 2016"
   ]
  },
  {
   "cell_type": "code",
   "execution_count": 136,
   "metadata": {},
   "outputs": [],
   "source": [
    "mcbs_x_mbsf.to_csv(\"../data/mcbs_nicoalco_x_mbsf_15-16.csv\", index=False)\n",
    "df_x_mbsf.to_csv(\"../data/mcbs_demo_x_mbsf_15-16.csv\", index=False)"
   ]
  },
  {
   "cell_type": "code",
   "execution_count": null,
   "metadata": {},
   "outputs": [],
   "source": []
  }
 ],
 "metadata": {
  "kernelspec": {
   "display_name": "Python 3",
   "language": "python",
   "name": "python3"
  },
  "language_info": {
   "codemirror_mode": {
    "name": "ipython",
    "version": 3
   },
   "file_extension": ".py",
   "mimetype": "text/x-python",
   "name": "python",
   "nbconvert_exporter": "python",
   "pygments_lexer": "ipython3",
   "version": "3.8.5"
  }
 },
 "nbformat": 4,
 "nbformat_minor": 4
}
