{
 "cells": [
  {
   "cell_type": "code",
   "execution_count": 2,
   "metadata": {},
   "outputs": [],
   "source": [
    "import pandas as pd"
   ]
  },
  {
   "cell_type": "markdown",
   "metadata": {},
   "source": [
    "## Get MCBS"
   ]
  },
  {
   "cell_type": "code",
   "execution_count": 3,
   "metadata": {},
   "outputs": [],
   "source": [
    "mcbs = pd.read_csv(\"../data/csv/nicoalco.csv\")"
   ]
  },
  {
   "cell_type": "code",
   "execution_count": 4,
   "metadata": {},
   "outputs": [
    {
     "data": {
      "text/plain": [
       "12297"
      ]
     },
     "execution_count": 4,
     "metadata": {},
     "output_type": "execute_result"
    }
   ],
   "source": [
    "len(mcbs)"
   ]
  },
  {
   "cell_type": "code",
   "execution_count": 5,
   "metadata": {},
   "outputs": [
    {
     "name": "stderr",
     "output_type": "stream",
     "text": [
      "/n/helmod/apps/centos7/Core/Anaconda3/2020.11-jupyterood-fasrc01/x/lib/python3.8/site-packages/IPython/core/interactiveshell.py:3146: DtypeWarning: Columns (24,25,26,27,28,29,30,40) have mixed types.Specify dtype option on import or set low_memory=False.\n",
      "  has_raised = await self.run_ast_nodes(code_ast.body, cell_name,\n"
     ]
    }
   ],
   "source": [
    "df = pd.read_csv(\"../data/csv/demo.csv\") # demographics file"
   ]
  },
  {
   "cell_type": "code",
   "execution_count": 6,
   "metadata": {},
   "outputs": [
    {
     "data": {
      "text/plain": [
       "14068"
      ]
     },
     "execution_count": 6,
     "metadata": {},
     "output_type": "execute_result"
    }
   ],
   "source": [
    "len(df)"
   ]
  },
  {
   "cell_type": "markdown",
   "metadata": {},
   "source": [
    "## Get the MCBS-MBSF cross-walk"
   ]
  },
  {
   "cell_type": "code",
   "execution_count": 7,
   "metadata": {},
   "outputs": [],
   "source": [
    "xwalk = pd.read_csv(\"../data/mcbs-xwalk/mcbs_xwalk_file_res000017155_req010441_2018.dat\", names=[\"xwalk\"])"
   ]
  },
  {
   "cell_type": "code",
   "execution_count": 8,
   "metadata": {},
   "outputs": [],
   "source": [
    "# get MCBS ids from xwalk\n",
    "xwalk[\"mcbs\"]=xwalk[\"xwalk\"].str[:8]\n",
    "# get MBSF ids\n",
    "xwalk[\"mbsf\"]=xwalk[\"xwalk\"].str[8:]\n",
    "xwalk[\"mcbs\"]=xwalk[\"mcbs\"].astype(int)"
   ]
  },
  {
   "cell_type": "code",
   "execution_count": 9,
   "metadata": {},
   "outputs": [],
   "source": [
    "xwalk=xwalk.drop(columns=['xwalk'])"
   ]
  },
  {
   "cell_type": "markdown",
   "metadata": {},
   "source": [
    "## Merge MCBS and MBSF cross-walk"
   ]
  },
  {
   "cell_type": "code",
   "execution_count": 10,
   "metadata": {},
   "outputs": [],
   "source": [
    "mcbs_x = mcbs.merge(xwalk, left_on='BASEID', right_on='mcbs', how='inner')"
   ]
  },
  {
   "cell_type": "code",
   "execution_count": 11,
   "metadata": {},
   "outputs": [],
   "source": [
    "df_x = df.merge(xwalk, left_on='BASEID', right_on='mcbs', how='inner')"
   ]
  },
  {
   "cell_type": "code",
   "execution_count": 12,
   "metadata": {},
   "outputs": [
    {
     "data": {
      "text/plain": [
       "12297"
      ]
     },
     "execution_count": 12,
     "metadata": {},
     "output_type": "execute_result"
    }
   ],
   "source": [
    "len(mcbs_x)"
   ]
  },
  {
   "cell_type": "code",
   "execution_count": 13,
   "metadata": {},
   "outputs": [
    {
     "data": {
      "text/plain": [
       "14068"
      ]
     },
     "execution_count": 13,
     "metadata": {},
     "output_type": "execute_result"
    }
   ],
   "source": [
    "len(df_x)"
   ]
  },
  {
   "cell_type": "markdown",
   "metadata": {},
   "source": [
    "## Get MBSF (enrollment)"
   ]
  },
  {
   "cell_type": "markdown",
   "metadata": {},
   "source": [
    "All MBSF columns:\n",
    "\n",
    "cols = [\"zip\",\"year\",\"qid\",\"dodflag\",\"bene_dod\",\"sex\",\"race\",\"age\",\"hmo_mo\",\"hmoind\",\"statecode\",\"latitude\",\"longitude\",\n",
    "        \"dual\",\"death\",\"dead\",\"entry_age\",\"entry_year\",\"entry_age_break\",\"followup_year\",\"followup_year_plus_one\",\"pm25_ensemble\",\n",
    "        \"pm25_no_interp\",\"pm25_nn\",\"ozone\",\"ozone_no_interp\",\"zcta\",\"poverty\",\"popdensity\",\"medianhousevalue\",\"pct_blk\",\n",
    "        \"medhouseholdincome\",\"pct_owner_occ\",\"hispanic\",\"education\",\"population\",\"zcta_no_interp\",\"poverty_no_interp\",\n",
    "        \"popdensity_no_interp\",\"medianhousevalue_no_interp\",\"pct_blk_no_interp\",\"medhouseholdincome_no_interp\",\n",
    "        \"pct_owner_occ_no_interp\",\"hispanic_no_interp\",\"education_no_interp\",\"population_no_interp\",\"smoke_rate\",\"mean_bmi\",\n",
    "        \"smoke_rate_no_interp\",\"mean_bmi_no_interp\",\"amb_visit_pct\",\"a1c_exm_pct\",\"amb_visit_pct_no_interp\",\n",
    "        \"a1c_exm_pct_no_interp\",\"tmmx\",\"rmax\",\"pr\",\"cluster_cat\",\"fips_no_interp\",\"fips\",\"summer_tmmx\",\n",
    "        \"summer_rmax\",\"winter_tmmx\",\"winter_rmax\"]"
   ]
  },
  {
   "cell_type": "code",
   "execution_count": 15,
   "metadata": {},
   "outputs": [],
   "source": [
    "cols = [\"zip\",\"year\",\"qid\",\"dodflag\",\"bene_dod\",\"sex\",\"race\",\"age\",\"hmo_mo\",\"hmoind\",\"statecode\",\n",
    "        \"dual\",\"death\",\"dead\",\"entry_age\",\"entry_year\",\"entry_age_break\",\"followup_year\"]"
   ]
  },
  {
   "cell_type": "code",
   "execution_count": null,
   "metadata": {},
   "outputs": [],
   "source": [
    "mbsf2015 = pd.read_csv(\n",
    "    \"../data/denom_by_year_csv/confounder_exposure_merged_nodups_health_2015.csv\", usecols=cols)"
   ]
  },
  {
   "cell_type": "markdown",
   "metadata": {},
   "source": [
    "Merge onto MCBS nicoalco and demo:"
   ]
  },
  {
   "cell_type": "code",
   "execution_count": null,
   "metadata": {},
   "outputs": [],
   "source": [
    "mcbs_x_mbsf = mcbs_x.merge(\n",
    "    mbsf, left_on='mbsf', right_on='qid', how='left', suffixes=(None, \"_2015\"))\n",
    "# An inner merge leads to: len(mcbs_x_mbsf) =  10042"
   ]
  },
  {
   "cell_type": "code",
   "execution_count": null,
   "metadata": {},
   "outputs": [],
   "source": [
    "df_x_mbsf = df_x.merge(\n",
    "    mbsf, left_on='mbsf', right_on='qid', how='left', suffixes=(None, \"_2015\"))\n",
    "# An inner merge leads to: len(df_x_mbsf) =  11585"
   ]
  },
  {
   "cell_type": "markdown",
   "metadata": {},
   "source": [
    "Get MBSF 2016 and merge onto the merged MCBS x MBSF 2015"
   ]
  },
  {
   "cell_type": "code",
   "execution_count": 32,
   "metadata": {},
   "outputs": [],
   "source": [
    "mbsf = pd.read_csv(\n",
    "    \"../data/denom_by_year_csv/confounder_exposure_merged_nodups_health_2016.csv\", usecols=cols)"
   ]
  },
  {
   "cell_type": "code",
   "execution_count": 33,
   "metadata": {},
   "outputs": [],
   "source": [
    "mcbs_x_mbsf = mcbs_x_mbsf.merge(\n",
    "    mbsf, left_on='mbsf', right_on='qid', how='left', suffixes=(None, \"_2016\"))"
   ]
  },
  {
   "cell_type": "code",
   "execution_count": 34,
   "metadata": {},
   "outputs": [],
   "source": [
    "df_x_mbsf = df_x_mbsf.merge(\n",
    "    mbsf, left_on='mbsf', right_on='qid', how='left', suffixes=(None, \"_2016\"))"
   ]
  },
  {
   "cell_type": "code",
   "execution_count": 35,
   "metadata": {},
   "outputs": [
    {
     "data": {
      "text/plain": [
       "12297"
      ]
     },
     "execution_count": 35,
     "metadata": {},
     "output_type": "execute_result"
    }
   ],
   "source": [
    "len(mcbs_x_mbsf)"
   ]
  },
  {
   "cell_type": "code",
   "execution_count": 36,
   "metadata": {},
   "outputs": [
    {
     "data": {
      "text/plain": [
       "14068"
      ]
     },
     "execution_count": 36,
     "metadata": {},
     "output_type": "execute_result"
    }
   ],
   "source": [
    "len(df_x_mbsf)"
   ]
  },
  {
   "cell_type": "markdown",
   "metadata": {},
   "source": [
    "## Cleanup and save"
   ]
  },
  {
   "cell_type": "code",
   "execution_count": 42,
   "metadata": {},
   "outputs": [],
   "source": [
    "mcbs_x_mbsf = mcbs_x_mbsf.drop(columns=['mcbs', 'mbsf','qid_2016'])\n",
    "df_x_mbsf = df_x_mbsf.drop(columns=['mcbs', 'mbsf','qid_2016'])"
   ]
  },
  {
   "cell_type": "markdown",
   "metadata": {},
   "source": [
    "Apply \"age\" >= 65 in 2015 cut"
   ]
  },
  {
   "cell_type": "code",
   "execution_count": 62,
   "metadata": {},
   "outputs": [],
   "source": [
    "# mcbs_x_mbsf[\"age\"]=pd.to_numeric(mcbs_x_mbsf[\"age\"])\n",
    "mcbs_x_mbsf = mcbs_x_mbsf[mcbs_x_mbsf[\"age\"] >= 65]"
   ]
  },
  {
   "cell_type": "markdown",
   "metadata": {},
   "source": [
    "Select the same cohort in demo:"
   ]
  },
  {
   "cell_type": "code",
   "execution_count": 69,
   "metadata": {},
   "outputs": [
    {
     "data": {
      "text/plain": [
       "10042"
      ]
     },
     "execution_count": 69,
     "metadata": {},
     "output_type": "execute_result"
    }
   ],
   "source": [
    "len(mcbs_x_mbsf)"
   ]
  },
  {
   "cell_type": "code",
   "execution_count": 63,
   "metadata": {},
   "outputs": [],
   "source": [
    "df_x_mbsf = df_x_mbsf[\n",
    "    df_x_mbsf[\"BASEID\"].isin(mcbs_x_mbsf[\"BASEID\"])]"
   ]
  },
  {
   "cell_type": "code",
   "execution_count": 68,
   "metadata": {},
   "outputs": [],
   "source": [
    "mcbs_x_mbsf.to_csv(\"../data/mcbs_nicoalco_x_mbsf_15-16.csv\", index=False)\n",
    "df_x_mbsf.to_csv(\"../data/mcbs_demo_x_mbsf_15-16.csv\", index=False)"
   ]
  },
  {
   "cell_type": "code",
   "execution_count": null,
   "metadata": {},
   "outputs": [],
   "source": []
  }
 ],
 "metadata": {
  "kernelspec": {
   "display_name": "Python 3",
   "language": "python",
   "name": "python3"
  },
  "language_info": {
   "codemirror_mode": {
    "name": "ipython",
    "version": 3
   },
   "file_extension": ".py",
   "mimetype": "text/x-python",
   "name": "python",
   "nbconvert_exporter": "python",
   "pygments_lexer": "ipython3",
   "version": "3.8.5"
  }
 },
 "nbformat": 4,
 "nbformat_minor": 4
}
